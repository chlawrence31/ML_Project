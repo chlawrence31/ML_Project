{
 "cells": [
  {
   "cell_type": "markdown",
   "id": "0de2b4b8-c07c-4937-b2da-6921ef7e1d85",
   "metadata": {},
   "source": [
    "# File Preprocessing  "
   ]
  },
  {
   "cell_type": "code",
   "execution_count": 4,
   "id": "dccfc712-8b89-4e03-a24a-8fd68c433495",
   "metadata": {},
   "outputs": [],
   "source": [
    "import pandas as pd\n",
    "import numpy as np\n",
    "import cv2\n",
    "from pathlib import Path\n",
    "import os\n",
    "import shutil\n",
    "from glob import glob\n",
    "import matplotlib.pyplot as plt"
   ]
  },
  {
   "cell_type": "code",
   "execution_count": 5,
   "id": "b1e52fdf-7274-4400-9c15-f06b0034d38b",
   "metadata": {},
   "outputs": [],
   "source": [
    "cwd_path = Path.cwd()"
   ]
  },
  {
   "cell_type": "code",
   "execution_count": 17,
   "id": "b59e1e15-82cf-4d10-bff9-0c84bcfa118b",
   "metadata": {},
   "outputs": [],
   "source": [
    "og_train_path = os.path.join(cwd_path, \"fruits-360/Training\")\n",
    "og_test_path  = os.path.join(cwd_path, \"fruits-360/Test\")"
   ]
  },
  {
   "cell_type": "code",
   "execution_count": 7,
   "id": "81ae548c-1fa3-4c88-a023-352821e556e4",
   "metadata": {},
   "outputs": [],
   "source": [
    "def getRandomFruitDirs(classCount):\n",
    "    return np.random.choice(os.listdir(og_train_path), classCount, replace=False)"
   ]
  },
  {
   "cell_type": "code",
   "execution_count": 8,
   "id": "ca32de72-656a-4af2-ae40-45aa3193e401",
   "metadata": {},
   "outputs": [],
   "source": [
    "def MakeDirs(srcDir, newDirs):\n",
    "    \n",
    "    if type(newDirs) == str: \n",
    "        dirpath = os.path.join(srcDir, newDirs)\n",
    "        if os.path.isdir(dirpath): \n",
    "            shutil.rmtree(dirpath)\n",
    "        \n",
    "        os.mkdir(dirpath)\n",
    "    \n",
    "    \n",
    "    if type(newDirs) == list:    \n",
    "        for dirname in newDirs:\n",
    "            dirpath = os.path.join(srcDir, dirname)\n",
    "            if os.path.isdir(dirpath):\n",
    "                shutil.rmtree(dirpath)\n",
    "        \n",
    "            os.mkdir(dirpath)"
   ]
  },
  {
   "cell_type": "code",
   "execution_count": 9,
   "id": "0d6d858e-0136-4377-bbf6-0b7d6b974a6c",
   "metadata": {},
   "outputs": [],
   "source": [
    "def transferFile(srcPaths, destDir):\n",
    "    if not os.path.isdir(destDir):     \n",
    "        os.mkdir(destDir)\n",
    "        \n",
    "    for idx, imagePth in enumerate(srcPaths): \n",
    "        dPath = os.path.join(destDir, f\"img{idx}.jpg\")\n",
    "        os.symlink(imagePth, dPath)\n",
    "    "
   ]
  },
  {
   "cell_type": "code",
   "execution_count": 10,
   "id": "3424bfbe-9bd9-4433-8a6f-0ddabdf5a9a4",
   "metadata": {},
   "outputs": [],
   "source": [
    "def getImageMatrix(links, title, image_size):\n",
    "\n",
    "    sub_matrix = np.zeros(image_size[0] * image_size[1] * 3)\n",
    "    labels = []\n",
    "    for link in links: \n",
    "        vect_item = cv2.imread(link)\n",
    "        vect_item = cv2.resize(vect_item, image_size)\n",
    "        vect_item = cv2.cvtColor(vect_item, cv2.COLOR_BGR2RGB)\n",
    "        sub_matrix = np.vstack((sub_matrix, vect_item.flatten()))\n",
    "        labels.append(title)\n",
    "        \n",
    "    return sub_matrix[1:]/255, np.array(labels)"
   ]
  },
  {
   "cell_type": "code",
   "execution_count": 11,
   "id": "db290e82-2a3f-4a77-aa73-76c219a9b8de",
   "metadata": {},
   "outputs": [],
   "source": [
    "def getSamplesDir(sampleSize, valSize, testSize, selectedFruits, classDist = None): \n",
    "    trainSize = 1 - (valSize + testSize)\n",
    "    train_fn = []\n",
    "    test_fn = []\n",
    "    val_fn = []\n",
    "\n",
    "    if classDist is None: \n",
    "        cDist = np.ones(selectedFruits.shape[0]) * 1/selectedFruits.shape[0]\n",
    "    else: \n",
    "        cDist = classDist\n",
    "    \n",
    "    if np.abs(np.sum(cDist) - 1) > 1e-9:\n",
    "        raise Exception(\"Class Distribution is greater than one!\")\n",
    "\n",
    "        \n",
    "    if testSize <= 0: \n",
    "        raise Exception(\"Training sample size too small!\")\n",
    "\n",
    "    train_sample_sz = int(trainSize * sampleSize)\n",
    "    val_sample_sz = int(valSize * sampleSize) \n",
    "    test_sample_sz = int(testSize * sampleSize)\n",
    "\n",
    "    subset_dir = \"ML_FINAL_PROJECT/fruits-360\"\n",
    "    MakeDirs(subset_dir, \"Subsets\")\n",
    "    \n",
    "    subset_dir = \"ML_FINAL_PROJECT/fruits-360/Subsets\"\n",
    "    \n",
    "    subs = [\"Train_sub\", \"Validation_sub\", \"Test_sub\"]\n",
    "    MakeDirs(\"ML_FINAL_PROJECT/fruits-360/Subsets\", subs)\n",
    "\n",
    "    for idx, fruit in enumerate(selectedFruits): \n",
    "        globbed_train = glob(os.path.join(og_train_path, fruit, \"*.jp*g\"))\n",
    "        globbed_test = glob(os.path.join(og_test_path, fruit, \"*.jp*g\"))\n",
    "        \n",
    "        train_fn = np.random.choice(globbed_train, int(train_sample_sz * cDist[idx]), replace = False)\n",
    "        testval_fn = np.random.choice(globbed_test, int((test_sample_sz  + val_sample_sz)*cDist[idx]), replace = False)\n",
    "\n",
    "        test_fn, val_fn = testval_fn[ : int(test_sample_sz * cDist[idx])],  testval_fn[int(test_sample_sz * cDist[idx]) + 1 :]\n",
    "        \n",
    "        transferFile(train_fn, os.path.join(subset_dir, subs[0], fruit))\n",
    "        transferFile(val_fn, os.path.join(subset_dir, subs[1], fruit))\n",
    "        transferFile(test_fn, os.path.join(subset_dir, subs[2], fruit)) "
   ]
  },
  {
   "cell_type": "code",
   "execution_count": 12,
   "id": "647840d4-9cac-4958-a52b-95fdac7b8c23",
   "metadata": {},
   "outputs": [],
   "source": [
    "def getSamplesMat(sampleSize, selectedFruits, classDist = None, resize = (100, 100)): \n",
    "    matrix = np.zeros(shape = (1, resize[0] * resize[1] * 3))\n",
    "    labels = np.zeros([0])\n",
    "\n",
    "    if classDist is None: \n",
    "        cDist = np.ones(selectedFruits.shape[0]) * 1/selectedFruits.shape[0]\n",
    "    else: \n",
    "        cDist = classDist\n",
    "    \n",
    "    if np.abs(np.sum(cDist) - 1) > 1e-9:\n",
    "        raise Exception(\"Class Distribution is greater than one!\")\n",
    "        return \n",
    "        \n",
    "\n",
    "    for idx, fruit in enumerate(selectedFruits): \n",
    "        globbed_train = glob(os.path.join(og_train_path, fruit, \"*.jp*g\"))\n",
    "        globbed_test = glob(os.path.join(og_test_path, fruit, \"*.jp*g\"))\n",
    "        \n",
    "        fn = np.random.choice(globbed_train + globbed_test, int(sampleSize * cDist[idx]) ,replace = False)\n",
    "        res_matrix, new_labels = getImageMatrix(fn, fruit,resize)        \n",
    "        \n",
    "        matrix = np.vstack([matrix, res_matrix])\n",
    "        labels = np.concatenate([labels, new_labels])\n",
    "        \n",
    "    return matrix[1:], labels[1:], fn[0]"
   ]
  },
  {
   "cell_type": "markdown",
   "id": "ca2d779d-6bad-4202-adfd-9de9a35fd3b7",
   "metadata": {},
   "source": [
    "# Pulling the images using the matrix command (For all but Neural Networks): "
   ]
  },
  {
   "cell_type": "code",
   "execution_count": 18,
   "id": "c1e98ac6-a5ae-473b-9370-7827979c9658",
   "metadata": {},
   "outputs": [],
   "source": [
    "# Specify fruit classes here or get n random fruits\n",
    "count = 5\n",
    "classes = getRandomFruitDirs(count) #or [\"Madarine\", \"Apple Golden 1\" ... etc ]"
   ]
  },
  {
   "cell_type": "code",
   "execution_count": 19,
   "id": "d6f0383d-95a7-4223-a0e6-bd040996d2d4",
   "metadata": {},
   "outputs": [],
   "source": [
    "# overall Sample size: \n",
    "sample_size = 100\n",
    "\n",
    "# Selected fruit classes (from above)\n",
    "selected_fruits = classes\n",
    "\n",
    "# Would contain the fraction distribution of classes for experimentation (None is all equal)\n",
    "classDist = None # ex: [0.2, 0.1, 0.4, 0.1, 0.1] MUST ADD TO 1\n",
    "\n",
    "# resize: Resizes the image for further experimentation default is 100 x 100\n",
    "resizes = (100, 100)\n",
    "\n",
    "\n",
    "image_dataset, labels, what = getSamplesMat(sample_size, selected_fruits, classDist, resizes)"
   ]
  },
  {
   "cell_type": "code",
   "execution_count": 20,
   "id": "0b7f3cef-d1e1-4ed6-a164-cebd41e5274c",
   "metadata": {},
   "outputs": [
    {
     "name": "stdout",
     "output_type": "stream",
     "text": [
      "Dataset shape \"sample_size\" images of shape 3*resizes[1]*resizes[2] is:  (100, 30000)\n"
     ]
    }
   ],
   "source": [
    "print(\"Dataset shape \\\"sample_size\\\" images of shape 3*resizes[1]*resizes[2] is: \", image_dataset.shape)"
   ]
  },
  {
   "cell_type": "code",
   "execution_count": 21,
   "id": "dd87fd5b-e0ae-4064-83e5-6682aff39c6f",
   "metadata": {},
   "outputs": [
    {
     "data": {
      "text/plain": [
       "Text(0.5, 1.0, 'Tomato 3')"
      ]
     },
     "execution_count": 21,
     "metadata": {},
     "output_type": "execute_result"
    },
    {
     "data": {
      "image/png": "[encoded data removed]",
      "text/plain": [
       "<Figure size 640x480 with 1 Axes>"
      ]
     },
     "metadata": {},
     "output_type": "display_data"
    }
   ],
   "source": [
    "# display an image:\n",
    "\n",
    "# Reshape the image to the resizes coordinates: \n",
    "\n",
    "# image index (change)\n",
    "index = 72\n",
    "image = image_dataset[index].reshape(100, 100, 3)\n",
    "plt.imshow(image)\n",
    "plt.title(labels[index])"
   ]
  },
  {
   "cell_type": "code",
   "execution_count": 35,
   "id": "3f9825f2-d312-48df-b8e8-15b071cd919d",
   "metadata": {},
   "outputs": [
    {
     "ename": "error",
     "evalue": "OpenCV(4.10.0) D:\\a\\opencv-python\\opencv-python\\opencv\\modules\\imgproc\\src\\resize.cpp:4152: error: (-215:Assertion failed) !ssize.empty() in function 'cv::resize'\n",
     "output_type": "error",
     "traceback": [
      "\u001b[1;31m---------------------------------------------------------------------------\u001b[0m",
      "\u001b[1;31merror\u001b[0m                                     Traceback (most recent call last)",
      "Cell \u001b[1;32mIn[35], line 12\u001b[0m\n\u001b[0;32m      9\u001b[0m resizes \u001b[38;5;241m=\u001b[39m (\u001b[38;5;241m100\u001b[39m,\u001b[38;5;241m100\u001b[39m)\n\u001b[0;32m     10\u001b[0m image_dataset, labels, what \u001b[38;5;241m=\u001b[39m getSamplesMat(sample_size, fruits, classDist, resizes)\n\u001b[1;32m---> 12\u001b[0m imageMatrix \u001b[38;5;241m=\u001b[39m getImageMatrix(what, labels, resizes)\n\u001b[0;32m     14\u001b[0m X_train, X_test, y_train, y_test \u001b[38;5;241m=\u001b[39m train_test_split(image_dataset, labels, test_size\u001b[38;5;241m=\u001b[39m\u001b[38;5;241m0.2\u001b[39m, random_state\u001b[38;5;241m=\u001b[39m\u001b[38;5;241m42\u001b[39m)\n",
      "Cell \u001b[1;32mIn[10], line 7\u001b[0m, in \u001b[0;36mgetImageMatrix\u001b[1;34m(links, title, image_size)\u001b[0m\n\u001b[0;32m      5\u001b[0m \u001b[38;5;28;01mfor\u001b[39;00m link \u001b[38;5;129;01min\u001b[39;00m links: \n\u001b[0;32m      6\u001b[0m     vect_item \u001b[38;5;241m=\u001b[39m cv2\u001b[38;5;241m.\u001b[39mimread(link)\n\u001b[1;32m----> 7\u001b[0m     vect_item \u001b[38;5;241m=\u001b[39m cv2\u001b[38;5;241m.\u001b[39mresize(vect_item, image_size)\n\u001b[0;32m      8\u001b[0m     vect_item \u001b[38;5;241m=\u001b[39m cv2\u001b[38;5;241m.\u001b[39mcvtColor(vect_item, cv2\u001b[38;5;241m.\u001b[39mCOLOR_BGR2RGB)\n\u001b[0;32m      9\u001b[0m     sub_matrix \u001b[38;5;241m=\u001b[39m np\u001b[38;5;241m.\u001b[39mvstack((sub_matrix, vect_item\u001b[38;5;241m.\u001b[39mflatten()))\n",
      "\u001b[1;31merror\u001b[0m: OpenCV(4.10.0) D:\\a\\opencv-python\\opencv-python\\opencv\\modules\\imgproc\\src\\resize.cpp:4152: error: (-215:Assertion failed) !ssize.empty() in function 'cv::resize'\n"
     ]
    }
   ],
   "source": [
    "from sklearn.metrics import classification_report, confusion_matrix, ConfusionMatrixDisplay\n",
    "from sklearn.svm import SVC\n",
    "from sklearn.model_selection import train_test_split\n",
    "\n",
    "sample_size = 100\n",
    "fruits = [\"Corn\", \"Lemon\"]\n",
    "fruits = np.array(fruits)\n",
    "classDist = None\n",
    "resizes = (100,100)\n",
    "image_dataset, labels, what = getSamplesMat(sample_size, fruits, classDist, resizes)\n",
    "\n",
    "imageMatrix = getImageMatrix(what, labels, resizes)\n",
    "\n",
    "X_train, X_test, y_train, y_test = train_test_split(image_dataset, labels, test_size=0.2, random_state=42)"
   ]
  },
  {
   "cell_type": "code",
   "execution_count": null,
   "id": "c522203c",
   "metadata": {},
   "outputs": [],
   "source": [
    "rbf_svm = SVC(kernel='rbf', C=1, gamma='scale')\n",
    "rbf_svm.fit(X_train, y_train)\n",
    "y_pred_rbf = rbf_svm.predict(X_test)\n",
    "print(classification_report(y_test, y_pred_rbf))\n",
    "cm = confusion_matrix(y_test, y_pred_rbf)\n",
    "disp = ConfusionMatrixDisplay(confusion_matrix=cm)\n",
    "disp.plot()"
   ]
  }
 ],
 "metadata": {
  "kernelspec": {
   "display_name": "Python 3 (ipykernel)",
   "language": "python",
   "name": "python3"
  },
  "language_info": {
   "codemirror_mode": {
    "name": "ipython",
    "version": 3
   },
   "file_extension": ".py",
   "mimetype": "text/x-python",
   "name": "python",
   "nbconvert_exporter": "python",
   "pygments_lexer": "ipython3",
   "version": "3.11.7"
  }
 },
 "nbformat": 4,
 "nbformat_minor": 5
}
