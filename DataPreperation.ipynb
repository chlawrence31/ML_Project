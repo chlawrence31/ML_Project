{
 "cells": [
  {
   "cell_type": "markdown",
   "id": "0de2b4b8-c07c-4937-b2da-6921ef7e1d85",
   "metadata": {},
   "source": [
    "# File Preprocessing  "
   ]
  },
  {
   "cell_type": "code",
   "execution_count": 29,
   "id": "dccfc712-8b89-4e03-a24a-8fd68c433495",
   "metadata": {},
   "outputs": [],
   "source": [
    "import pandas as pd\n",
    "import numpy as np\n",
    "import cv2\n",
    "from pathlib import Path\n",
    "import os\n",
    "import shutil\n",
    "from glob import glob\n",
    "import matplotlib.pyplot as plt"
   ]
  },
  {
   "cell_type": "code",
   "execution_count": 30,
   "id": "b1e52fdf-7274-4400-9c15-f06b0034d38b",
   "metadata": {},
   "outputs": [],
   "source": [
    "cwd_path = Path.cwd()"
   ]
  },
  {
   "cell_type": "code",
   "execution_count": 31,
   "id": "b59e1e15-82cf-4d10-bff9-0c84bcfa118b",
   "metadata": {},
   "outputs": [],
   "source": [
    "og_train_path = os.path.join(cwd_path, \"ML_FINAL_PROJECT/fruits-360/Training\")\n",
    "og_test_path  = os.path.join(cwd_path, \"ML_FINAL_PROJECT/fruits-360/Test\") "
   ]
  },
  {
   "cell_type": "code",
   "execution_count": 32,
   "id": "81ae548c-1fa3-4c88-a023-352821e556e4",
   "metadata": {},
   "outputs": [],
   "source": [
    "def getRandomFruitDirs(classCount):\n",
    "    return np.random.choice(os.listdir(og_train_path), classCount, replace=False)"
   ]
  },
  {
   "cell_type": "code",
   "execution_count": 33,
   "id": "ca32de72-656a-4af2-ae40-45aa3193e401",
   "metadata": {},
   "outputs": [],
   "source": [
    "def MakeDirs(srcDir, newDirs):\n",
    "    \n",
    "    if type(newDirs) == str: \n",
    "        dirpath = os.path.join(srcDir, newDirs)\n",
    "        if os.path.isdir(dirpath): \n",
    "            shutil.rmtree(dirpath)\n",
    "        \n",
    "        os.mkdir(dirpath)\n",
    "    \n",
    "    \n",
    "    if type(newDirs) == list:    \n",
    "        for dirname in newDirs:\n",
    "            dirpath = os.path.join(srcDir, dirname)\n",
    "            if os.path.isdir(dirpath):\n",
    "                shutil.rmtree(dirpath)\n",
    "        \n",
    "            os.mkdir(dirpath)"
   ]
  },
  {
   "cell_type": "code",
   "execution_count": 34,
   "id": "0d6d858e-0136-4377-bbf6-0b7d6b974a6c",
   "metadata": {},
   "outputs": [],
   "source": [
    "def transferFile(srcPaths, destDir):\n",
    "    if not os.path.isdir(destDir):     \n",
    "        os.mkdir(destDir)\n",
    "        \n",
    "    for idx, imagePth in enumerate(srcPaths): \n",
    "        dPath = os.path.join(destDir, f\"img{idx}.jpg\")\n",
    "        os.symlink(imagePth, dPath)\n",
    "    "
   ]
  },
  {
   "cell_type": "code",
   "execution_count": 35,
   "id": "3424bfbe-9bd9-4433-8a6f-0ddabdf5a9a4",
   "metadata": {},
   "outputs": [],
   "source": [
    "def getImageMatrix(links, title, image_size):\n",
    "\n",
    "    sub_matrix = np.zeros(image_size[0] * image_size[1] * 3)\n",
    "    labels = []\n",
    "    for link in links: \n",
    "        vect_item = cv2.imread(link)\n",
    "        vect_item = cv2.resize(vect_item, image_size)\n",
    "        vect_item = cv2.cvtColor(vect_item, cv2.COLOR_BGR2RGB)\n",
    "        sub_matrix = np.vstack((sub_matrix, vect_item.flatten()))\n",
    "        labels.append(title)\n",
    "        \n",
    "    return sub_matrix[1:]/255, np.array(labels)"
   ]
  },
  {
   "cell_type": "code",
   "execution_count": 36,
   "id": "db290e82-2a3f-4a77-aa73-76c219a9b8de",
   "metadata": {},
   "outputs": [],
   "source": [
    "def getSamplesDir(sampleSize, valSize, testSize, selectedFruits, classDist = None): \n",
    "    trainSize = 1 - (valSize + testSize)\n",
    "    train_fn = []\n",
    "    test_fn = []\n",
    "    val_fn = []\n",
    "\n",
    "    if classDist is None: \n",
    "        cDist = np.ones(selectedFruits.shape[0]) * 1/selectedFruits.shape[0]\n",
    "    else: \n",
    "        cDist = classDist\n",
    "    \n",
    "    if np.abs(np.sum(cDist) - 1) > 1e-9:\n",
    "        raise Exception(\"Class Distribution is greater than one!\")\n",
    "\n",
    "        \n",
    "    if testSize <= 0: \n",
    "        raise Exception(\"Training sample size too small!\")\n",
    "\n",
    "    train_sample_sz = int(trainSize * sampleSize)\n",
    "    val_sample_sz = int(valSize * sampleSize) \n",
    "    test_sample_sz = int(testSize * sampleSize)\n",
    "\n",
    "    subset_dir = \"ML_FINAL_PROJECT/fruits-360\"\n",
    "    MakeDirs(subset_dir, \"Subsets\")\n",
    "    \n",
    "    subset_dir = \"ML_FINAL_PROJECT/fruits-360/Subsets\"\n",
    "    \n",
    "    subs = [\"Train_sub\", \"Validation_sub\", \"Test_sub\"]\n",
    "    MakeDirs(\"ML_FINAL_PROJECT/fruits-360/Subsets\", subs)\n",
    "\n",
    "    for idx, fruit in enumerate(selectedFruits): \n",
    "        globbed_train = glob(os.path.join(og_train_path, fruit, \"*.jp*g\"))\n",
    "        globbed_test = glob(os.path.join(og_test_path, fruit, \"*.jp*g\"))\n",
    "        \n",
    "        train_fn = np.random.choice(globbed_train, int(train_sample_sz * cDist[idx]), replace = False)\n",
    "        testval_fn = np.random.choice(globbed_test, int((test_sample_sz  + val_sample_sz)*cDist[idx]), replace = False)\n",
    "\n",
    "        test_fn, val_fn = testval_fn[ : int(test_sample_sz * cDist[idx])],  testval_fn[int(test_sample_sz * cDist[idx]) + 1 :]\n",
    "        \n",
    "        transferFile(train_fn, os.path.join(subset_dir, subs[0], fruit))\n",
    "        transferFile(val_fn, os.path.join(subset_dir, subs[1], fruit))\n",
    "        transferFile(test_fn, os.path.join(subset_dir, subs[2], fruit)) "
   ]
  },
  {
   "cell_type": "code",
   "execution_count": 37,
   "id": "647840d4-9cac-4958-a52b-95fdac7b8c23",
   "metadata": {},
   "outputs": [],
   "source": [
    "def getSamplesMat(sampleSize, selectedFruits, classDist = None, resize = (100, 100)): \n",
    "    matrix = np.zeros(shape = (1, resize[0] * resize[1] * 3))\n",
    "    labels = np.zeros([0])\n",
    "\n",
    "    if classDist is None: \n",
    "        cDist = np.ones(selectedFruits.shape[0]) * 1/selectedFruits.shape[0]\n",
    "    else: \n",
    "        cDist = classDist\n",
    "    \n",
    "    if np.abs(np.sum(cDist) - 1) > 1e-9:\n",
    "        raise Exception(\"Class Distribution is greater than one!\")\n",
    "        return \n",
    "        \n",
    "\n",
    "    for idx, fruit in enumerate(selectedFruits): \n",
    "        globbed_train = glob(os.path.join(og_train_path, fruit, \"*.jp*g\"))\n",
    "        globbed_test = glob(os.path.join(og_test_path, fruit, \"*.jp*g\"))\n",
    "        \n",
    "        fn = np.random.choice(globbed_train + globbed_test, int(sampleSize * cDist[idx]) ,replace = False)\n",
    "        res_matrix, new_labels = getImageMatrix(fn, fruit,resize)        \n",
    "        \n",
    "        matrix = np.vstack([matrix, res_matrix])\n",
    "        labels = np.concatenate([labels, new_labels])\n",
    "        \n",
    "    return matrix[1:], labels[1:], fn[0]"
   ]
  },
  {
   "cell_type": "markdown",
   "id": "ca2d779d-6bad-4202-adfd-9de9a35fd3b7",
   "metadata": {},
   "source": [
    "# Pulling the images using the matrix command (For all but Neural Networks): "
   ]
  },
  {
   "cell_type": "code",
   "execution_count": 39,
   "id": "c1e98ac6-a5ae-473b-9370-7827979c9658",
   "metadata": {},
   "outputs": [],
   "source": [
    "# Specify fruit classes here or get n random fruits\n",
    "count = 5\n",
    "classes = getRandomFruitDirs(count) #or [\"Madarine\", \"Apple Golden 1\" ... etc ]"
   ]
  },
  {
   "cell_type": "code",
   "execution_count": 40,
   "id": "d6f0383d-95a7-4223-a0e6-bd040996d2d4",
   "metadata": {},
   "outputs": [],
   "source": [
    "# overall Sample size: \n",
    "sample_size = 100\n",
    "\n",
    "# Selected fruit classes (from above)\n",
    "selected_fruits = classes\n",
    "\n",
    "# Would contain the fraction distribution of classes for experimentation (None is all equal)\n",
    "classDist = None # ex: [0.2, 0.1, 0.4, 0.1, 0.1] MUST ADD TO 1\n",
    "\n",
    "# resize: Resizes the image for further experimentation default is 100 x 100\n",
    "resizes = (100, 100)\n",
    "\n",
    "\n",
    "image_dataset, labels, what = getSamplesMat(sample_size, selected_fruits, classDist, resizes)"
   ]
  },
  {
   "cell_type": "code",
   "execution_count": 41,
   "id": "0b7f3cef-d1e1-4ed6-a164-cebd41e5274c",
   "metadata": {},
   "outputs": [
    {
     "name": "stdout",
     "output_type": "stream",
     "text": [
      "Dataset shape \"sample_size\" images of shape 3*resizes[1]*resizes[2] is:  (100, 30000)\n"
     ]
    }
   ],
   "source": [
    "print(\"Dataset shape \\\"sample_size\\\" images of shape 3*resizes[1]*resizes[2] is: \", image_dataset.shape)"
   ]
  },
  {
   "cell_type": "code",
   "execution_count": 49,
   "id": "dd87fd5b-e0ae-4064-83e5-6682aff39c6f",
   "metadata": {},
   "outputs": [
    {
     "data": {
      "text/plain": [
       "Text(0.5, 1.0, 'Onion White')"
      ]
     },
     "execution_count": 49,
     "metadata": {},
     "output_type": "execute_result"
    },
    {
     "data": {
      "image/png": "[encoded data removed]",
      "text/plain": [
       "<Figure size 640x480 with 1 Axes>"
      ]
     },
     "metadata": {},
     "output_type": "display_data"
    }
   ],
   "source": [
    "# display an image:\n",
    "\n",
    "# Reshape the image to the resizes coordinates: \n",
    "\n",
    "# image index (change)\n",
    "index = 72\n",
    "image = image_dataset[index].reshape(100, 100, 3)\n",
    "plt.imshow(image)\n",
    "plt.title(labels[index])"
   ]
  },
  {
   "cell_type": "code",
   "execution_count": null,
   "id": "3f9825f2-d312-48df-b8e8-15b071cd919d",
   "metadata": {},
   "outputs": [],
   "source": []
  }
 ],
 "metadata": {
  "kernelspec": {
   "display_name": "Python 3 (ipykernel)",
   "language": "python",
   "name": "python3"
  },
  "language_info": {
   "codemirror_mode": {
    "name": "ipython",
    "version": 3
   },
   "file_extension": ".py",
   "mimetype": "text/x-python",
   "name": "python",
   "nbconvert_exporter": "python",
   "pygments_lexer": "ipython3",
   "version": "3.11.5"
  }
 },
 "nbformat": 4,
 "nbformat_minor": 5
}
